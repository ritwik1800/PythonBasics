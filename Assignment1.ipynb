{
  "nbformat": 4,
  "nbformat_minor": 0,
  "metadata": {
    "colab": {
      "provenance": []
    },
    "kernelspec": {
      "name": "python3",
      "display_name": "Python 3"
    },
    "language_info": {
      "name": "python"
    }
  },
  "cells": [
    {
      "cell_type": "code",
      "execution_count": null,
      "metadata": {
        "id": "uPqd8LCTY-3L"
      },
      "outputs": [],
      "source": []
    },
    {
      "cell_type": "markdown",
      "source": [
        "#1.  What is Python, and why is it popular ?\n",
        "* Python is a high-level, interpreted programming language known for its readability and versatility. It is popular because of its simple syntax, large community, extensive libraries, and wide applicability, including\n",
        "web development, data analysis, AI, and more.\n",
        "\n",
        "#2.  What is an interpreter in Python ?\n",
        "*  An interpreter is a program that executes Python code line-by-line, allowing you to run scripts interactively. This makes it easier to debug and develop code quickly.\n",
        "\n",
        "#3.  What are pre-defined keywords in Python ?\n",
        "* Pre-defined keywords in Python are reserved words that have a specific meaning and purpose within the language. Examples include if, else, for, while, True, and False.\n",
        "\n",
        "#4. Can keywords be used as variable names ?\n",
        "*  No, keywords cannot be used as variable names as they are reserved by Python for specific functionalities.\n",
        "\n",
        "#5. What is mutability in Python ?\n",
        "* Mutability refers to an object’s ability to change its state or content after creation. For example, lists are mutable, while tuples are immutable.\n",
        "\n",
        "#6. Why are lists mutable, but tuples are immutable ?\n",
        "*  Lists are designed to be flexible, so they allow modification of elements. Tuples, on the other hand, are designed as fixed collections, making them faster and safer in scenarios where data should not change.\n",
        "\n",
        "#7. What is the difference between “==” and “is” operators in Python ?\n",
        "*  “==” checks if the values of two objects are equal, while “is” checks if two variables point to the same memory location (i.e., if they are the same object).\n",
        "\n",
        "#8. What are logical operators in Python ?\n",
        "* Logical operators are used to combine multiple conditions and include and, or, and not.\n",
        "\n",
        "#9.  What is type casting in Python ?\n",
        "* Type casting is the conversion of one data type to another, such as converting an integer to a string or a float.\n",
        "\n",
        "#10. . What is the difference between implicit and explicit type casting ?\n",
        "* Implicit casting is done automatically by Python, while explicit casting requires the use of functions like int(), float(), or str() to convert between types.\n",
        "\n",
        "#11. What is the purpose of conditional statements in Python ?\n",
        "*  Conditional statements, such as if, elif, and else, allow Python to execute certain blocks of code based on whether a condition is True or False.\n",
        "\n",
        "#12.  How does the elif statement work?\n",
        "* The elif statement provides additional conditions after an initial if. It is only executed if the previous if or elif condition was False.\n",
        "\n",
        "#13.  What is the difference between for and while loops ?\n",
        "* A for loop is typically used when you know the number of iterations in advance, while a while loop is used when the number of iterations depends on a condition.\n",
        "\n",
        "#14.  Describe a scenario where a while loop is more suitable than a for loop.\n",
        "* A while loop is ideal when you want to continue looping until a specific condition is met, like waiting for user input or monitoring a process until it completes.\n"
      ],
      "metadata": {
        "id": "TD-BDC9JZYZx"
      }
    },
    {
      "cell_type": "markdown",
      "source": [
        "#15. Write a Python program to print \"Hello, World!\""
      ],
      "metadata": {
        "id": "xp4z4c7mc9ol"
      }
    },
    {
      "cell_type": "code",
      "source": [
        "# code\n",
        "print(\"Hello, World!\")"
      ],
      "metadata": {
        "colab": {
          "base_uri": "https://localhost:8080/"
        },
        "id": "sjD8faVmdIBO",
        "outputId": "3e66d0f1-ba11-485c-d7f2-28cd4cf9e979"
      },
      "execution_count": 1,
      "outputs": [
        {
          "output_type": "stream",
          "name": "stdout",
          "text": [
            "Hello, World!\n"
          ]
        }
      ]
    },
    {
      "cell_type": "markdown",
      "source": [
        "#16. Write a Python program that displays your name and age."
      ],
      "metadata": {
        "id": "Fiqm84PjdRGi"
      }
    },
    {
      "cell_type": "code",
      "source": [
        "# code\n",
        "name = \"Ritwik Sharma\"\n",
        "age = 25\n",
        "print(f\"My name is {name} and I'm {age} years old.\")"
      ],
      "metadata": {
        "colab": {
          "base_uri": "https://localhost:8080/"
        },
        "id": "VGsVftO4db5Y",
        "outputId": "7013ccfd-7c1a-4b6a-86a9-783acca6832b"
      },
      "execution_count": 5,
      "outputs": [
        {
          "output_type": "stream",
          "name": "stdout",
          "text": [
            "My name is Ritwik Sharma and I'm 25 years old.\n"
          ]
        }
      ]
    },
    {
      "cell_type": "markdown",
      "source": [
        "#17. Write code to print all the pre-defined keywords in Python using the keyword library."
      ],
      "metadata": {
        "id": "aTNCN3K2efxy"
      }
    },
    {
      "cell_type": "code",
      "source": [
        "import keyword\n",
        "print(keyword.kwlist)"
      ],
      "metadata": {
        "id": "msNWsZDgWgow",
        "colab": {
          "base_uri": "https://localhost:8080/"
        },
        "outputId": "1d2bd0df-f177-4efa-8161-4eef50d1d4ba"
      },
      "execution_count": 6,
      "outputs": [
        {
          "output_type": "stream",
          "name": "stdout",
          "text": [
            "['False', 'None', 'True', 'and', 'as', 'assert', 'async', 'await', 'break', 'class', 'continue', 'def', 'del', 'elif', 'else', 'except', 'finally', 'for', 'from', 'global', 'if', 'import', 'in', 'is', 'lambda', 'nonlocal', 'not', 'or', 'pass', 'raise', 'return', 'try', 'while', 'with', 'yield']\n"
          ]
        }
      ]
    },
    {
      "cell_type": "markdown",
      "source": [
        "# 18. Write a program that checks if a given word is a Python keyword."
      ],
      "metadata": {
        "id": "CyVDhrgZWghq"
      }
    },
    {
      "cell_type": "code",
      "source": [
        "import keyword\n",
        "word = input(\"Enter a word:\")\n",
        "if keyword.iskeyword(word):\n",
        "    print(f\"{word} is a Python keyword.\")\n",
        "else:\n",
        "    print(f\"{word} is not a Python keyword.\")"
      ],
      "metadata": {
        "colab": {
          "base_uri": "https://localhost:8080/"
        },
        "id": "0twQwXbtfATu",
        "outputId": "7c37e287-3563-44af-f293-c17c7c1c2389"
      },
      "execution_count": 8,
      "outputs": [
        {
          "output_type": "stream",
          "name": "stdout",
          "text": [
            "Enter a word:i\n",
            "i is not a Python keyword.\n"
          ]
        }
      ]
    },
    {
      "cell_type": "markdown",
      "source": [
        "# 19. Create a list and tuple in Python, and demonstrate how attempting to change an element works differently for each."
      ],
      "metadata": {
        "id": "nJm57rDUfK-u"
      }
    },
    {
      "cell_type": "code",
      "source": [
        "my_list = [1, 2, 3]\n",
        "my_tuple = (1, 2, 3)\n",
        "\n",
        "# Modifying list\n",
        "my_list[0] = 10\n",
        "print(\"Modified list:\", my_list)\n",
        "\n",
        "# Trying to modify tuple\n",
        "try:\n",
        "    my_tuple[0] = 10\n",
        "except TypeError as e:\n",
        "    print(\"Error:\", e)"
      ],
      "metadata": {
        "id": "9lUAmES-WgIc",
        "colab": {
          "base_uri": "https://localhost:8080/"
        },
        "outputId": "66edfdd8-40d2-47f0-8913-34bb9c638089"
      },
      "execution_count": 9,
      "outputs": [
        {
          "output_type": "stream",
          "name": "stdout",
          "text": [
            "Modified list: [10, 2, 3]\n",
            "Error: 'tuple' object does not support item assignment\n"
          ]
        }
      ]
    },
    {
      "cell_type": "markdown",
      "source": [
        "#20.  Write a function to demonstrate the behavior of mutable and immutable arguments."
      ],
      "metadata": {
        "id": "dgZjyuW1fdR3"
      }
    },
    {
      "cell_type": "code",
      "source": [
        "def modify_list(lst):\n",
        "    lst.append(4)\n",
        "\n",
        "def modify_string(s):\n",
        "    s += \" world\"\n",
        "\n",
        "my_list = [1, 2, 3]\n",
        "my_string = \"hello\"\n",
        "\n",
        "modify_list(my_list)\n",
        "print(\"Modified list:\", my_list)\n",
        "\n",
        "modify_string(my_string)\n",
        "print(\"String after function call:\", my_string)"
      ],
      "metadata": {
        "colab": {
          "base_uri": "https://localhost:8080/"
        },
        "id": "aNuNNskvfjj0",
        "outputId": "00d573fa-6ffd-4e12-b5c5-52eb117e90ad"
      },
      "execution_count": 10,
      "outputs": [
        {
          "output_type": "stream",
          "name": "stdout",
          "text": [
            "Modified list: [1, 2, 3, 4]\n",
            "String after function call: hello\n"
          ]
        }
      ]
    },
    {
      "cell_type": "markdown",
      "source": [
        "# 21. Write a program that performs basic arithmetic operations on two user-input numbers."
      ],
      "metadata": {
        "id": "KMWDsM22fxpj"
      }
    },
    {
      "cell_type": "code",
      "source": [
        "num1 = int(input(\"Enter first number: \"))\n",
        "num2 = int(input(\"Enter second number: \"))\n",
        "\n",
        "print(\"Addition:\", num1 + num2)\n",
        "print(\"Subtraction:\", num1 - num2)\n",
        "print(\"Multiplication:\", num1 * num2)\n",
        "print(\"Division:\", num1 / num2 if num2 != 0 else \"Cannot divide by zero\")"
      ],
      "metadata": {
        "colab": {
          "base_uri": "https://localhost:8080/"
        },
        "id": "qhblPRpzf5DH",
        "outputId": "91642781-e5bb-4a67-8c25-326c291f06ab"
      },
      "execution_count": 11,
      "outputs": [
        {
          "output_type": "stream",
          "name": "stdout",
          "text": [
            "Enter first number: 1\n",
            "Enter second number: 3\n",
            "Addition: 4\n",
            "Subtraction: -2\n",
            "Multiplication: 3\n",
            "Division: 0.3333333333333333\n"
          ]
        }
      ]
    },
    {
      "cell_type": "markdown",
      "source": [
        "#22. Write a program to demonstrate the use of logical operators."
      ],
      "metadata": {
        "id": "LjLV7h1LgMim"
      }
    },
    {
      "cell_type": "code",
      "source": [
        "x = True\n",
        "y = False\n",
        "\n",
        "print(\"x and y:\", x and y)\n",
        "print(\"x or y:\", x or y)\n",
        "print(\"not x:\", not x)"
      ],
      "metadata": {
        "colab": {
          "base_uri": "https://localhost:8080/"
        },
        "id": "uudiX6ffgSKV",
        "outputId": "d0837e6d-d42d-42d3-e867-be396eaaf5a3"
      },
      "execution_count": 12,
      "outputs": [
        {
          "output_type": "stream",
          "name": "stdout",
          "text": [
            "x and y: False\n",
            "x or y: True\n",
            "not x: False\n"
          ]
        }
      ]
    },
    {
      "cell_type": "markdown",
      "source": [
        "#23. Write a Python program to convert user input from string to integer, float, and boolean types."
      ],
      "metadata": {
        "id": "Av8SlzopgYVa"
      }
    },
    {
      "cell_type": "code",
      "source": [
        "user_input = input(\"Enter a number: \")\n",
        "\n",
        "int_val = int(user_input)\n",
        "float_val = float(user_input)\n",
        "bool_val = bool(int_val)\n",
        "\n",
        "print(\"Integer:\", int_val)\n",
        "print(\"Float:\", float_val)\n",
        "print(\"Boolean:\", bool_val)"
      ],
      "metadata": {
        "colab": {
          "base_uri": "https://localhost:8080/"
        },
        "id": "SA_7uM-3geRf",
        "outputId": "8597b852-de81-4f81-baa9-882bd1054477"
      },
      "execution_count": 13,
      "outputs": [
        {
          "output_type": "stream",
          "name": "stdout",
          "text": [
            "Enter a number: 18\n",
            "Integer: 18\n",
            "Float: 18.0\n",
            "Boolean: True\n"
          ]
        }
      ]
    },
    {
      "cell_type": "markdown",
      "source": [
        "#24.  Write code to demonstrate type casting with list elements."
      ],
      "metadata": {
        "id": "sVT0lT3jglBL"
      }
    },
    {
      "cell_type": "code",
      "source": [
        "str_list = [\"1\", \"2\", \"3\"]\n",
        "int_list = list(map(int, str_list))\n",
        "print(\"List of integers:\", int_list)"
      ],
      "metadata": {
        "colab": {
          "base_uri": "https://localhost:8080/"
        },
        "id": "58lRFBYJgryy",
        "outputId": "388195b1-0809-49a5-a438-85d7c5b23978"
      },
      "execution_count": 14,
      "outputs": [
        {
          "output_type": "stream",
          "name": "stdout",
          "text": [
            "List of integers: [1, 2, 3]\n"
          ]
        }
      ]
    },
    {
      "cell_type": "markdown",
      "source": [
        "#25. Write a program that checks if a number is positive, negative, or zero."
      ],
      "metadata": {
        "id": "iiY8kQQTgw7O"
      }
    },
    {
      "cell_type": "code",
      "source": [
        "num = float(input(\"Enter a number:\"))\n",
        "if num > 0:\n",
        "    print(\"Positive\")\n",
        "elif num < 0:\n",
        "    print(\"Negative\")\n",
        "else:\n",
        "    print(\"Zero\")"
      ],
      "metadata": {
        "colab": {
          "base_uri": "https://localhost:8080/"
        },
        "id": "0KjeshDGg11k",
        "outputId": "6b4937e8-5935-4516-9b2a-f76bb4a79402"
      },
      "execution_count": 18,
      "outputs": [
        {
          "output_type": "stream",
          "name": "stdout",
          "text": [
            "Enter a number:18\n",
            "Positive\n"
          ]
        }
      ]
    },
    {
      "cell_type": "markdown",
      "source": [
        "#26.  Write a for loop to print numbers from 1 to 10."
      ],
      "metadata": {
        "id": "Oh8U097UhGyE"
      }
    },
    {
      "cell_type": "code",
      "source": [
        "for i in range(1, 11):\n",
        "    print(i)"
      ],
      "metadata": {
        "colab": {
          "base_uri": "https://localhost:8080/"
        },
        "id": "W3weyhYPhMpX",
        "outputId": "82da8117-c42a-4ced-8f89-2cb7bb278d49"
      },
      "execution_count": 19,
      "outputs": [
        {
          "output_type": "stream",
          "name": "stdout",
          "text": [
            "1\n",
            "2\n",
            "3\n",
            "4\n",
            "5\n",
            "6\n",
            "7\n",
            "8\n",
            "9\n",
            "10\n"
          ]
        }
      ]
    },
    {
      "cell_type": "markdown",
      "source": [
        "#27.  Write a Python program to find the sum of all even numbers between 1 and 50."
      ],
      "metadata": {
        "id": "uYjHpLldhSV8"
      }
    },
    {
      "cell_type": "code",
      "source": [
        "total = 0\n",
        "for i in range(1, 51):\n",
        "    if i % 2 == 0:\n",
        "        total += i\n",
        "print(\"Sum of even numbers from 1 to 50:\", total)"
      ],
      "metadata": {
        "colab": {
          "base_uri": "https://localhost:8080/"
        },
        "id": "4j5i76AuhZTQ",
        "outputId": "23bfaac1-59b7-4d7c-d14a-a126f9d750b9"
      },
      "execution_count": 20,
      "outputs": [
        {
          "output_type": "stream",
          "name": "stdout",
          "text": [
            "Sum of even numbers from 1 to 50: 650\n"
          ]
        }
      ]
    },
    {
      "cell_type": "markdown",
      "source": [
        "#28.  Write a program to reverse a string using a while loop."
      ],
      "metadata": {
        "id": "RW52DhZpheko"
      }
    },
    {
      "cell_type": "code",
      "source": [
        "string = input(\"Enter a string:\")\n",
        "reversed_string = \"\"\n",
        "i = len(string) - 1\n",
        "\n",
        "while i >= 0:\n",
        "    reversed_string += string[i]\n",
        "    i -= 1\n",
        "\n",
        "print(\"Reversed string:\", reversed_string)"
      ],
      "metadata": {
        "colab": {
          "base_uri": "https://localhost:8080/"
        },
        "id": "9opI0pwXiVRC",
        "outputId": "1a742f4b-299a-42fb-cd27-7f117896061a"
      },
      "execution_count": 21,
      "outputs": [
        {
          "output_type": "stream",
          "name": "stdout",
          "text": [
            "Enter a string: ritwik\n",
            "Reversed string: kiwtir\n"
          ]
        }
      ]
    },
    {
      "cell_type": "markdown",
      "source": [
        "#29.  Write a Python program to calculate the factorial of a number provided by the user using a while loop."
      ],
      "metadata": {
        "id": "14kuOww2ieMs"
      }
    },
    {
      "cell_type": "code",
      "source": [
        "# Get input from the user\n",
        "\n",
        "num = int(input(\"Enter a number to calculate its factorial: \"))\n",
        "\n",
        "# Initialize variables\n",
        "factorial = 1\n",
        "i = 1\n",
        "\n",
        "# Calculate factorial using a while loop\n",
        "while i <= num:\n",
        "    factorial *= i\n",
        "    i += 1\n",
        "\n",
        "print(f\"The factorial of {num} is: {factorial}\")"
      ],
      "metadata": {
        "colab": {
          "base_uri": "https://localhost:8080/"
        },
        "id": "PWhDN0vNilsw",
        "outputId": "bbf854f1-07ec-4515-e7a1-c21d23a04a3e"
      },
      "execution_count": 22,
      "outputs": [
        {
          "output_type": "stream",
          "name": "stdout",
          "text": [
            "Enter a number to calculate its factorial: 18\n",
            "The factorial of 18 is: 6402373705728000\n"
          ]
        }
      ]
    }
  ]
}